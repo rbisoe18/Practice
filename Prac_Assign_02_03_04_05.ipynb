{
 "cells": [
  {
   "cell_type": "markdown",
   "id": "e82dabb6-6757-48d1-9c2b-a895b4603229",
   "metadata": {},
   "source": [
    "4. Take 3 variables and assign integer values to them. Find the largest variable, by only using the if and else conditions."
   ]
  },
  {
   "cell_type": "code",
   "execution_count": 17,
   "id": "5d12ae0b-79c6-4433-a76d-e9d72f23bc57",
   "metadata": {},
   "outputs": [
    {
     "name": "stdin",
     "output_type": "stream",
     "text": [
      "Enter the value one:  2\n",
      "Enter the value two:  4\n",
      "Enter the value three:  3\n"
     ]
    },
    {
     "name": "stdout",
     "output_type": "stream",
     "text": [
      "4 is greater than 2 and 3\n"
     ]
    }
   ],
   "source": [
    "a = input(\"Enter the value one: \")\n",
    "b = input(\"Enter the value two: \")\n",
    "c = input(\"Enter the value three: \")\n",
    "\n",
    "if a > b and a > c:\n",
    "    print(f\"{a} is greater than {b} and {c}\")\n",
    "elif b > c and b > a:\n",
    "    print(f\"{b} is greater than {a} and {c}\")\n",
    "else:\n",
    "    print(f\"{c} is greater than {a} and {b}\")"
   ]
  },
  {
   "cell_type": "markdown",
   "id": "e59c3ff0-e776-4223-8afc-44bebf5689fe",
   "metadata": {},
   "source": [
    "7. Write a program that asks the user to enter a number. You should print out a message to the user, either “That number is divisible by either 3 or 5”, or “That number is not divisible by either 3 or 5”. Be sure to consider the data type of the input you are taking in from the user. Use a single if/else block to solve this problem."
   ]
  },
  {
   "cell_type": "code",
   "execution_count": 27,
   "id": "c755b1ab-f7a0-47a6-9328-4007965f0ff4",
   "metadata": {},
   "outputs": [
    {
     "name": "stdin",
     "output_type": "stream",
     "text": [
      "Enter the value:  15\n"
     ]
    },
    {
     "name": "stdout",
     "output_type": "stream",
     "text": [
      "15 is divisible bt 3 and 5\n"
     ]
    }
   ],
   "source": [
    "a = int(input(\"Enter the value: \"))\n",
    "\n",
    "if a % 3 == 0 and a % 5 == 0:\n",
    "    print(f\"{a} is divisible bt 3 and 5\")\n",
    "else:\n",
    "    print(f\"{a} is not divisible bt 3 and 5\")"
   ]
  },
  {
   "cell_type": "code",
   "execution_count": 26,
   "id": "b07fe2a5-9360-4023-88b2-97e700439880",
   "metadata": {},
   "outputs": [
    {
     "name": "stdin",
     "output_type": "stream",
     "text": [
      "Enter the value:  12\n"
     ]
    },
    {
     "name": "stdout",
     "output_type": "stream",
     "text": [
      "12 is divisible by 3 and 5\n"
     ]
    }
   ],
   "source": [
    "a = int(input(\"Enter the value: \"))\n",
    "\n",
    "if a % 3 == 0 or a % 5 == 0:\n",
    "    print(f\"{a} is divisible by 3 and 5\")\n",
    "else:\n",
    "    print(f\"{a} is not divisible by 3 and 5\")"
   ]
  },
  {
   "cell_type": "markdown",
   "id": "22092ce1-78f9-4713-9de3-48c7d6a9e10f",
   "metadata": {},
   "source": [
    "9. Take two variable radius_1 and radius_2 and calculate the area of circle_1 and circle_2. Also print which circle has large area. If area is equal then print area is equal."
   ]
  },
  {
   "cell_type": "code",
   "execution_count": 36,
   "id": "7d0d0466-f4ae-43e5-9e8f-25de3344ad8a",
   "metadata": {},
   "outputs": [
    {
     "name": "stdin",
     "output_type": "stream",
     "text": [
      "Enter the radius_1 for cicle_1:  2\n",
      "Enter the radius_2 for circle_2:  2\n"
     ]
    },
    {
     "name": "stdout",
     "output_type": "stream",
     "text": [
      "circle_1 is equal to circle_2\n"
     ]
    }
   ],
   "source": [
    "radius_1 = int(input(\"Enter the radius_1 for cicle_1: \"))\n",
    "radius_2 = int(input(\"Enter the radius_2 for circle_2: \"))\n",
    "\n",
    "pi = 3.14\n",
    "\n",
    "circle_1 = pi*((radius_1)**2)\n",
    "circle_2 = pi*((radius_2)**2)\n",
    "\n",
    "if circle_1 >= circle_2:\n",
    "    if circle_1 == circle_2:\n",
    "        print(\"circle_1 is equal to circle_2\")\n",
    "    else:\n",
    "        print(\"circle_1 is greater than circle_2\")\n",
    "else:\n",
    "    print(\"circle_2 is greater than circle_1\")"
   ]
  },
  {
   "cell_type": "code",
   "execution_count": 37,
   "id": "8fdcc2b6-1d03-451a-b9cd-db73f3de98d5",
   "metadata": {},
   "outputs": [
    {
     "name": "stdin",
     "output_type": "stream",
     "text": [
      "Enter the radius_1 for cicle_1:  3\n",
      "Enter the radius_2 for circle_2:  2\n"
     ]
    },
    {
     "name": "stdout",
     "output_type": "stream",
     "text": [
      "circle_1 is greater than circle_2\n"
     ]
    }
   ],
   "source": [
    "radius_1 = int(input(\"Enter the radius_1 for cicle_1: \"))\n",
    "radius_2 = int(input(\"Enter the radius_2 for circle_2: \"))\n",
    "\n",
    "pi = 3.14\n",
    "\n",
    "circle_1 = pi*((radius_1)**2)\n",
    "circle_2 = pi*((radius_2)**2)\n",
    "\n",
    "if circle_1 >= circle_2:\n",
    "    if circle_1 == circle_2:\n",
    "        print(\"circle_1 is equal to circle_2\")\n",
    "    else:\n",
    "        print(\"circle_1 is greater than circle_2\")\n",
    "else:\n",
    "    print(\"circle_2 is greater than circle_1\")"
   ]
  },
  {
   "cell_type": "markdown",
   "id": "09578de1-b911-4e85-b064-bf56bedf7503",
   "metadata": {},
   "source": [
    "10. Check whether a year is leap year or not. Use nested if...else to solve this problem. A leap year is exactly divisible by 4 except for century years (years ending with 00). The century year is a leap year only if it is perfectly divisible by 400."
   ]
  },
  {
   "cell_type": "code",
   "execution_count": 3,
   "id": "dc3ebb4c-7e6c-45f4-ab53-6b4051d25f87",
   "metadata": {},
   "outputs": [
    {
     "name": "stdin",
     "output_type": "stream",
     "text": [
      "Enter the year: 2020\n"
     ]
    },
    {
     "name": "stdout",
     "output_type": "stream",
     "text": [
      "year: 2020 is a leap year\n"
     ]
    }
   ],
   "source": [
    "year = int(input(\"Enter the year:\"))\n",
    "\n",
    "if year % 4 == 0 or year % 400 == 0:\n",
    "    print(f\"year: {year} is a leap year\")\n",
    "else:\n",
    "    print(f\"year: {year} is not a leap year\")"
   ]
  },
  {
   "cell_type": "markdown",
   "id": "853d8a10-8a9f-45fc-910a-2aa5e9b08692",
   "metadata": {},
   "source": [
    "-----"
   ]
  },
  {
   "cell_type": "markdown",
   "id": "edc76574-d17b-4bb9-8a3a-9d83c2687e3d",
   "metadata": {},
   "source": [
    "# ASSIGNMENT 03:"
   ]
  },
  {
   "cell_type": "markdown",
   "id": "fe069e8d-2a44-4180-a84c-16b57feb932f",
   "metadata": {},
   "source": [
    "3. Write a program that takes your full name as input and displays the abbreviations of the first and middle names except the last name which is displayed as it is. For example, if your name is Sunny Bhaveen Chandra, then the output should be S.B.Chandra."
   ]
  },
  {
   "cell_type": "code",
   "execution_count": 7,
   "id": "9870e442-f433-4e84-9b97-79eaa6c4aef9",
   "metadata": {},
   "outputs": [
    {
     "name": "stdin",
     "output_type": "stream",
     "text": [
      "Enter your First name:  Sunny\n",
      "Enter your middle name:  Bhaveen\n",
      "Enter your last name:  Chandra\n"
     ]
    },
    {
     "name": "stdout",
     "output_type": "stream",
     "text": [
      "Your name is: S.B.Chandra\n"
     ]
    }
   ],
   "source": [
    "\n",
    "first_name = input(\"Enter your First name: \")\n",
    "middle_name = input(\"Enter your middle name: \")\n",
    "last_name = input(\"Enter your last name: \")\n",
    "\n",
    "print(f\"Your name is: {first_name[0]}.{middle_name[0]}.{last_name}\")\n",
    "\n"
   ]
  },
  {
   "cell_type": "markdown",
   "id": "4f728d26-07d1-416c-b7f4-bb1a8295fafc",
   "metadata": {},
   "source": [
    "-----\n",
    "OR"
   ]
  },
  {
   "cell_type": "code",
   "execution_count": 14,
   "id": "1019b0d7-5d4b-4317-a639-1c1270e7421b",
   "metadata": {},
   "outputs": [
    {
     "name": "stdin",
     "output_type": "stream",
     "text": [
      "Enter your name:  sunny bhaveen chandra\n"
     ]
    },
    {
     "name": "stdout",
     "output_type": "stream",
     "text": [
      "Wrong user input, we need to autocorrect it\n",
      "Correct output: Sunny Bhaveen Chandra\n",
      "\n",
      "first name : Sunny\n",
      "middle name : Bhaveen\n",
      "last name = Chandra\n",
      "\n",
      "Your name is: S.B.Chandra\n"
     ]
    }
   ],
   "source": [
    "name = input(\"Enter your name: \")\n",
    "\n",
    "if name.istitle():\n",
    "    print(\"User input is correct\")\n",
    "else:\n",
    "    print(\"Wrong user input, we need to autocorrect it\")\n",
    "    name = name.title()\n",
    "    print(f\"Correct output: {name}\")\n",
    "\n",
    "first_name,middle_name,last_name = name.split()\n",
    "\n",
    "print(f\"\"\"\n",
    "first name : {first_name}\n",
    "middle name : {middle_name}\n",
    "last name = {last_name}\n",
    "\"\"\")\n",
    "\n",
    "print(f\"Your name is: {first_name[0]}.{middle_name[0]}.{last_name}\")\n"
   ]
  },
  {
   "cell_type": "markdown",
   "id": "58106f73-9a0d-4572-8dcb-58d42c8c00f6",
   "metadata": {},
   "source": [
    "-----"
   ]
  },
  {
   "cell_type": "markdown",
   "id": "171a57ce-aa87-41cc-a944-e7c4b1fa860a",
   "metadata": {},
   "source": [
    "6. Indian PAN card format follows the following formats - \n",
    "    - `AYEPC7894X`\n",
    "    - `ABCDE9999Y`\n",
    "  Take user input for PAN_CARD and validate as per the above example."
   ]
  },
  {
   "cell_type": "code",
   "execution_count": 9,
   "id": "3e763ae8-a5e4-439e-b257-266bb639dbaa",
   "metadata": {},
   "outputs": [
    {
     "name": "stdin",
     "output_type": "stream",
     "text": [
      "Enter your Pan_Card:  AyPec7894X\n"
     ]
    },
    {
     "name": "stdout",
     "output_type": "stream",
     "text": [
      "Your Pan Card is not Valid and It's need to be valiate\n",
      "Your Pan Card is: AYPEC7894X\n"
     ]
    }
   ],
   "source": [
    "PAN_CARD = input(\"Enter your Pan_Card: \")\n",
    "p = PAN_CARD.upper()\n",
    "if PAN_CARD.isalpha() == True and PAN_CARD.isnumeric() == True:\n",
    "    print(f\"Your Pan Card: {PAN_CARD} is Valid\")\n",
    "    print(f\"Valided Pan Card is:{p}\")\n",
    "elif PAN_CARD.isupper() == True and PAN_CARD.isnumeric() == True:\n",
    "    print(f\"Your Pan Card: {PAN_CARD} is Valid\")\n",
    "else:\n",
    "    print(\"Your Pan Card is not Valid and It's need to be valiate\")\n",
    "    print(f\"Your Pan Card is: {p}\")"
   ]
  },
  {
   "cell_type": "code",
   "execution_count": 10,
   "id": "73284f49-e9f0-4076-86c3-a2cf809860f6",
   "metadata": {},
   "outputs": [
    {
     "name": "stdin",
     "output_type": "stream",
     "text": [
      "Enter your Pan_Card:  abcde9999y\n"
     ]
    },
    {
     "name": "stdout",
     "output_type": "stream",
     "text": [
      "Your Pan Card is not Valid and It's need to be valiate\n",
      "Your Pan Card is: ABCDE9999Y\n"
     ]
    }
   ],
   "source": [
    "PAN_CARD = input(\"Enter your Pan_Card: \")\n",
    "p = PAN_CARD.upper()\n",
    "if PAN_CARD.isalpha() == True and PAN_CARD.isnumeric() == True:\n",
    "    print(f\"Your Pan Card: {PAN_CARD} is Valid\")\n",
    "    print(f\"Valided Pan Card is:{p}\")\n",
    "elif PAN_CARD.isupper() == True and PAN_CARD.isnumeric() == True:\n",
    "    print(f\"Your Pan Card: {PAN_CARD} is Valid\")\n",
    "else:\n",
    "    print(\"Your Pan Card is not Valid and It's need to be valiate\")\n",
    "    print(f\"Your Pan Card is: {p}\")"
   ]
  },
  {
   "cell_type": "markdown",
   "id": "0c1b6750-cf15-4516-962b-8f644419570a",
   "metadata": {},
   "source": [
    "------"
   ]
  },
  {
   "cell_type": "markdown",
   "id": "eb3658aa-572b-4442-877d-c174613f7864",
   "metadata": {},
   "source": [
    "# ASSIGNMENT 04"
   ]
  },
  {
   "cell_type": "markdown",
   "id": "f01596af-3254-45ae-9431-101347663028",
   "metadata": {},
   "source": [
    "# 1. Find the largest number from the given list, use for loop.\n",
    "\n",
    "```\n",
    "numbers = [12, 75, 150, 180, 145, 525, 50]\n",
    "```"
   ]
  },
  {
   "cell_type": "code",
   "execution_count": 13,
   "id": "c59b68a0-f56a-492e-8c45-cc1cf6a70a04",
   "metadata": {},
   "outputs": [
    {
     "name": "stdout",
     "output_type": "stream",
     "text": [
      "12\n",
      "75\n",
      "150\n",
      "180\n",
      "145\n",
      "525\n",
      "50\n",
      "[12, 75, 150, 180, 145, 525, 50]\n"
     ]
    }
   ],
   "source": [
    "numbers = [12, 75, 150, 180, 145, 525, 50]\n",
    "a = list()\n",
    "for i in numbers:\n",
    "    print(i)\n",
    "    a.append(i)\n",
    "print(a)"
   ]
  },
  {
   "cell_type": "code",
   "execution_count": 20,
   "id": "4a951559-a5af-453d-8c33-870d7a0dbade",
   "metadata": {},
   "outputs": [
    {
     "name": "stdout",
     "output_type": "stream",
     "text": [
      "The largest number is: 525\n"
     ]
    }
   ],
   "source": [
    "numbers = [12, 75, 150, 180, 145, 525, 50]\n",
    "a = numbers[0] #largest number\n",
    "\n",
    "for i in numbers:\n",
    "    if i > a:\n",
    "        a = i\n",
    "print(f\"The largest number is: {a}\")"
   ]
  },
  {
   "cell_type": "markdown",
   "id": "2880e3c8-f820-47ac-9fac-e5e00a053aab",
   "metadata": {},
   "source": [
    "# 2. Print all the even number between (1, 12)."
   ]
  },
  {
   "cell_type": "code",
   "execution_count": 13,
   "id": "55afab43-4d76-4d06-8f6c-4671d006ab05",
   "metadata": {},
   "outputs": [
    {
     "name": "stdout",
     "output_type": "stream",
     "text": [
      "The even numbers are: 2\n",
      "The even numbers are: 4\n",
      "The even numbers are: 6\n",
      "The even numbers are: 8\n",
      "The even numbers are: 10\n",
      "The even numbers are: 12\n"
     ]
    }
   ],
   "source": [
    "even = list()\n",
    "for i in range(1,13):\n",
    "    if i % 2 == 0:\n",
    "        print(f\"The even numbers are: {i}\")"
   ]
  },
  {
   "cell_type": "markdown",
   "id": "09b41fe3-ca31-49ae-bfcf-2fd9bbf1f05f",
   "metadata": {},
   "source": [
    "# 3. Calculate the sum of all numbers from 1 to a given number\n",
    "    \n",
    "    Expected Output:\n",
    "\n",
    "    Enter number 10\n",
    "    \n",
    "    Sum is:  55"
   ]
  },
  {
   "cell_type": "code",
   "execution_count": 21,
   "id": "b23184bf-aede-40fa-b213-1196d3637471",
   "metadata": {},
   "outputs": [
    {
     "name": "stdin",
     "output_type": "stream",
     "text": [
      "Enter the value:  10\n"
     ]
    },
    {
     "name": "stdout",
     "output_type": "stream",
     "text": [
      "Total sum is: 55\n"
     ]
    }
   ],
   "source": [
    "n = int(input(\"Enter the value: \"))\n",
    "\n",
    "total_sum = 0\n",
    "\n",
    "for num in range(1 , n+1):\n",
    "    total_sum = total_sum + num\n",
    "print(f\"Total sum is: {total_sum}\")"
   ]
  },
  {
   "cell_type": "markdown",
   "id": "f818d8ff-8005-4fbc-bf50-21fa88ea9f1f",
   "metadata": {},
   "source": [
    "# 4. Write a program to display only those numbers from a list that satisfy the following conditions\n",
    "\n",
    "- The number must be divisible by five\n",
    "\n",
    "- If the number is greater than 150, then skip it and move to the next number\n",
    "\n",
    "- If the number is greater than 500, then stop the loop"
   ]
  },
  {
   "cell_type": "code",
   "execution_count": 5,
   "id": "38c2f24a-31ea-4138-aefd-1be8bbdb265f",
   "metadata": {},
   "outputs": [
    {
     "name": "stdout",
     "output_type": "stream",
     "text": [
      "[75, 150, 145]\n"
     ]
    }
   ],
   "source": [
    "n = [12, 75, 150, 180, 145, 525, 50]\n",
    "a = list()\n",
    "for i in n:\n",
    "    if i % 5 == 0:\n",
    "        if i > 500:\n",
    "            break\n",
    "        if i>150:\n",
    "            continue\n",
    "        a.append(i)\n",
    "print(a)    \n",
    "        \n",
    "     "
   ]
  },
  {
   "cell_type": "code",
   "execution_count": null,
   "id": "5238250c-02c2-42cf-8a9c-f1ca6c3a2f45",
   "metadata": {},
   "outputs": [],
   "source": []
  }
 ],
 "metadata": {
  "kernelspec": {
   "display_name": "Python 3 (ipykernel)",
   "language": "python",
   "name": "python3"
  },
  "language_info": {
   "codemirror_mode": {
    "name": "ipython",
    "version": 3
   },
   "file_extension": ".py",
   "mimetype": "text/x-python",
   "name": "python",
   "nbconvert_exporter": "python",
   "pygments_lexer": "ipython3",
   "version": "3.10.6"
  }
 },
 "nbformat": 4,
 "nbformat_minor": 5
}
